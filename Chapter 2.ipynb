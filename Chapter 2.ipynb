{
 "cells": [
  {
   "cell_type": "markdown",
   "metadata": {},
   "source": [
    "### Singleton (Creational)\n",
    "* Provides a mechanism to have one, and only one, object of a given type and provides a global point of access\n",
    "* Used in cases such as logging or database operations, printer, and so on\n",
    "* There is a need to have only one instance that is available across the application to avoid conflicting requests on the same resource"
   ]
  },
  {
   "cell_type": "code",
   "execution_count": 4,
   "metadata": {},
   "outputs": [
    {
     "name": "stdout",
     "output_type": "stream",
     "text": [
      "Object created <__main__.Singleton object at 0x0680DF50>\n",
      "Object created <__main__.Singleton object at 0x0680DF50>\n"
     ]
    }
   ],
   "source": [
    "class Singleton(object):\n",
    "    def __new__(cls):\n",
    "        if not hasattr(cls,'instance'):\n",
    "            cls.instance = super(Singleton,cls).__new__(cls)\n",
    "        return cls.instance\n",
    "\n",
    "############################\n",
    "\n",
    "s0 = Singleton() \n",
    "print(\"Object created\",s0)\n",
    "\n",
    "s1 = Singleton()\n",
    "print(\"Object created\",s1)"
   ]
  },
  {
   "cell_type": "markdown",
   "metadata": {},
   "source": [
    "* **\\_\\_new\\_\\_** Python’s special method to instantiate objects to control the object creation\n",
    "* The **s0** object gets created with the **\\_\\_new\\_\\_** method, but before this, it checks whether the object already exist\n",
    "* The **hasattr** method (Python’s special method to know if an object has a certain property) is used to see if the cls object has the instance property, which checks whether the class already has an object. \n",
    "* **super()** gives you access to methods in a superclass from the subclass that inherits from it. \n",
    "* Till the time the **s1** object is requested, **hasattr()** detects that an object already exists **s0** and hence **s1** allocates the existing object instance (located at the same address)."
   ]
  },
  {
   "cell_type": "markdown",
   "metadata": {},
   "source": [
    "### Lazy Singleton\n",
    "* in the case of module imports, we may accidently create an object even when it’s not needed. \n",
    "* makes sure that the object gets created when it’s actually needed.\n",
    "* a way to work with reduced resources."
   ]
  },
  {
   "cell_type": "code",
   "execution_count": 36,
   "metadata": {},
   "outputs": [
    {
     "name": "stdout",
     "output_type": "stream",
     "text": [
      " __init__ method called..\n",
      " __init__ method called..\n",
      "Object created:  <__main__.LazySingleton object at 0x066B1CF0>\n",
      "Instance already created: <__main__.LazySingleton object at 0x066B1CF0>\n"
     ]
    }
   ],
   "source": [
    "class LazySingleton:\n",
    "    __instance = None\n",
    "    def __init__(self):\n",
    "        if not LazySingleton.__instance:\n",
    "            print(\" __init__ method called..\")\n",
    "        else:\n",
    "            print(\"Instance already created:\", self.getInstance())\n",
    "\n",
    "    @classmethod\n",
    "    def getInstance(cls):\n",
    "        if not cls.__instance:\n",
    "            cls.__instance = LazySingleton()\n",
    "        return cls.__instance\n",
    "    \n",
    "############################\n",
    "\n",
    "s0 = LazySingleton()  \n",
    "print(\"Object created: \", LazySingleton.getInstance())  \n",
    "s1 = LazySingleton()"
   ]
  },
  {
   "cell_type": "markdown",
   "metadata": {},
   "source": [
    "* **s=LazySingleton()**, it calls the **__init__** method but no new object gets created. \n",
    "* Actual object creation happens when we call **Singleton.getInstance()**\n",
    "* **s1** instance already created"
   ]
  },
  {
   "cell_type": "markdown",
   "metadata": {},
   "source": [
    "### Monostate Singleton pattern (Borg)\n",
    "* there should be one and only one object of a class\n",
    "* instances sharing the same state\n",
    "* should be bothered about the state and behavior rather than the identity"
   ]
  },
  {
   "cell_type": "code",
   "execution_count": 25,
   "metadata": {},
   "outputs": [
    {
     "name": "stdout",
     "output_type": "stream",
     "text": [
      "Borg Object 'b':  <__main__.Borg object at 0x051BACF0>\n",
      "Object State 'b': {'rainy': 'yes', 'traffic': 'yes'}\n",
      "------\n",
      "Borg Object 'b1':  <__main__.Borg object at 0x04415070>\n",
      "Object State 'b': {'rainy': 'yes', 'traffic': 'yes', 'weather': 'cold'}\n",
      "Object State 'b1': {'rainy': 'yes', 'traffic': 'yes', 'weather': 'cold'}\n",
      "------\n",
      "Borg Object 'b2':  <__main__.Borg object at 0x044159D0>\n",
      "Object State 'b': {'rainy': 'no', 'traffic': 'yes', 'weather': 'fog'}\n",
      "Object State 'b1': {'rainy': 'no', 'traffic': 'yes', 'weather': 'fog'}\n",
      "Object State 'b2': {'rainy': 'no', 'traffic': 'yes', 'weather': 'fog'}\n"
     ]
    }
   ],
   "source": [
    "class Borg:    \n",
    "    __shared_state = {\"rainy\":\"yes\"}    \n",
    "    def __init__(self):             \n",
    "        self.__dict__ = self.__shared_state       \n",
    "        pass\n",
    "    \n",
    "b = Borg()\n",
    "b.traffic = 'yes'\n",
    "print(\"Borg Object 'b': \", b) ## b and b1 are distinct objects\n",
    "print(\"Object State 'b':\", b.__dict__)\n",
    "print('------')\n",
    "\n",
    "b1 = Borg()\n",
    "b1.weather = 'cold'\n",
    "\n",
    "print(\"Borg Object 'b1': \", b1)\n",
    "print(\"Object State 'b':\", b.__dict__)## b and b1 share same state\n",
    "print(\"Object State 'b1':\", b1.__dict__)\n",
    "print('------')\n",
    "\n",
    "b2 = Borg()\n",
    "b2.weather = 'fog'\n",
    "b2.rainy = 'no'\n",
    "\n",
    "print(\"Borg Object 'b2': \", b2) ## b, b1 and b2 are distinct objects\n",
    "print(\"Object State 'b':\", b.__dict__)## b, b1 and b2 share same state\n",
    "print(\"Object State 'b1':\", b1.__dict__)\n",
    "print(\"Object State 'b2':\", b2.__dict__)"
   ]
  },
  {
   "cell_type": "markdown",
   "metadata": {},
   "source": [
    "* **\\_\\_dict\\_\\_** variable to store the state of every object of a class\n",
    "* **\\_\\_shared\\_state** variable to store a default state (it could be any name)"
   ]
  },
  {
   "cell_type": "markdown",
   "metadata": {},
   "source": [
    "### Metaclasses\n",
    "* It is a class of a class\n",
    "* The class is an instance of its metaclass. \n",
    "* To create classes of their own type from the predefined Python classes"
   ]
  },
  {
   "cell_type": "code",
   "execution_count": 40,
   "metadata": {},
   "outputs": [
    {
     "name": "stdout",
     "output_type": "stream",
     "text": [
      "***** Here's My int ***** (4, 5)\n",
      "Now do whatever you want with these objects...\n"
     ]
    }
   ],
   "source": [
    "class MyInt(type):    \n",
    "    def __call__(cls, *args, **kwds):        \n",
    "        print(\"***** Here's My int *****\", args)        \n",
    "        print(\"Now do whatever you want with these objects...\")        \n",
    "        return type.__call__(cls, *args, **kwds)\n",
    "    \n",
    "class int(metaclass=MyInt):    \n",
    "    def __init__(self, x, y):        \n",
    "        self.x = x        \n",
    "        self.y = y\n",
    "\n",
    "i = int(4,5)"
   ]
  },
  {
   "cell_type": "code",
   "execution_count": 47,
   "metadata": {},
   "outputs": [
    {
     "name": "stdout",
     "output_type": "stream",
     "text": [
      "<__main__.Logger object at 0x04415D70>\n",
      "None\n",
      "None\n"
     ]
    }
   ],
   "source": [
    "class MetaSingleton(type):    \n",
    "    _instances = {}    \n",
    "    def __call__(cls, *args, **kwargs):        \n",
    "        if cls not in cls._instances:            \n",
    "            cls._instances[cls] = super(MetaSingleton, cls).__call__(*args, **kwargs)        \n",
    "            return cls._instances[cls]\n",
    "        \n",
    "class Logger(metaclass=MetaSingleton):    \n",
    "    pass\n",
    "\n",
    "logger1 = Logger()\n",
    "logger2 = Logger()\n",
    "logger3 = Logger()\n",
    "print(logger1)\n",
    "print(logger2)\n",
    "print(logger3)"
   ]
  },
  {
   "cell_type": "markdown",
   "metadata": {},
   "source": [
    "* when we instantiate the int class with **int(4,5)** \n",
    "* the **\\_\\_call\\_\\_** method of the **MyInt** metaclass gets called, \n",
    "* which means that the metaclass **MyInt** now controls the instantiation of the object\n",
    "* metaclasses overridethe **\\_\\_new\\_\\_** and **\\_\\_init\\_\\_** method"
   ]
  },
  {
   "cell_type": "markdown",
   "metadata": {},
   "source": [
    "### Example 1"
   ]
  },
  {
   "cell_type": "code",
   "execution_count": 49,
   "metadata": {},
   "outputs": [
    {
     "name": "stdout",
     "output_type": "stream",
     "text": [
      "Database Objects DB1 <sqlite3.Cursor object at 0x0441CC20>\n",
      "Database Objects DB2 <sqlite3.Cursor object at 0x0441CC20>\n"
     ]
    }
   ],
   "source": [
    "import sqlite3\n",
    "\n",
    "class MetaSingleton(type):    \n",
    "    _instances = {}    \n",
    "    def __call__(cls, *args, **kwargs):        \n",
    "        if cls not in cls._instances:            \n",
    "            cls._instances[cls] = super(MetaSingleton, cls).__call__(*args, **kwargs)        \n",
    "        return cls._instances[cls]\n",
    "\n",
    "class Database(metaclass=MetaSingleton):  \n",
    "    connection = None  \n",
    "    def connect(self):    \n",
    "        if self.connection is None:        \n",
    "            self.connection = sqlite3.connect(\"db.sqlite3\")        \n",
    "            self.cursorobj = self.connection.cursor()    \n",
    "        return self.cursorobj\n",
    "    \n",
    "db1 = Database().connect()\n",
    "db2 = Database().connect()\n",
    "print (\"Database Objects DB1\", db1)\n",
    "print (\"Database Objects DB2\", db2)"
   ]
  },
  {
   "cell_type": "markdown",
   "metadata": {},
   "source": [
    "### Example 2"
   ]
  },
  {
   "cell_type": "code",
   "execution_count": 57,
   "metadata": {},
   "outputs": [
    {
     "name": "stdout",
     "output_type": "stream",
     "text": [
      "Schedule health check for servers (1)..\n",
      "Checking  Server: Tokio\n",
      "Checking  Server: Seoul\n",
      "Checking  Server: Pekin\n",
      "Checking  Server: Siem Reap\n",
      "Schedule health check for servers (2)..\n",
      "Checking  Server: Tokio\n",
      "Checking  Server: Seoul\n",
      "Checking  Server: Pekin\n",
      "Checking  Server: Kuala Lumpur\n"
     ]
    }
   ],
   "source": [
    "class HealthCheck:    \n",
    "    _instance = None    \n",
    "    def __new__(cls, *args, **kwargs):        \n",
    "        if not HealthCheck._instance:            \n",
    "            HealthCheck._instance = super(HealthCheck, cls).__new__(cls, *args, **kwargs)        \n",
    "        return HealthCheck._instance    \n",
    "    def __init__(self):        \n",
    "        self._servers = []    \n",
    "    def addServer(self,name):        \n",
    "        self._servers.append(\"Server: \" + name)            \n",
    "    def changeLastServer(self,name):        \n",
    "        self._servers.pop()        \n",
    "        self._servers.append(\"Server: \" + name)\n",
    "\n",
    "hc1 = HealthCheck()\n",
    "hc2 = HealthCheck()\n",
    "\n",
    "hc1.addServer('Tokio')\n",
    "hc1.addServer('Seoul')\n",
    "hc1.addServer('Pekin')\n",
    "hc1.addServer('Siem Reap')\n",
    "print(\"Schedule health check for servers (1)..\")\n",
    "for i in range(len(hc1._servers)):    \n",
    "    print(\"Checking \", hc1._servers[i])\n",
    "\n",
    "hc2.changeLastServer('Kuala Lumpur')\n",
    "print(\"Schedule health check for servers (2)..\")\n",
    "for i in range(len(hc1._servers)):    \n",
    "    print(\"Checking \", hc2._servers[i])"
   ]
  }
 ],
 "metadata": {
  "kernelspec": {
   "display_name": "Python 3",
   "language": "python",
   "name": "python3"
  },
  "language_info": {
   "codemirror_mode": {
    "name": "ipython",
    "version": 3
   },
   "file_extension": ".py",
   "mimetype": "text/x-python",
   "name": "python",
   "nbconvert_exporter": "python",
   "pygments_lexer": "ipython3",
   "version": "3.7.4"
  }
 },
 "nbformat": 4,
 "nbformat_minor": 2
}
