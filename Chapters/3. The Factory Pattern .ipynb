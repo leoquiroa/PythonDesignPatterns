{
 "cells": [
  {
   "cell_type": "markdown",
   "metadata": {},
   "source": [
    "### Factory (Creational)\n",
    "* A class that is responsible for creating objects of other types\n",
    "* The client calls this method with certain parameters; objects of desired types are created in turn and returned to the client by the factory\n",
    "\n",
    "__But, why do we need a factory when the client can directly create\n",
    "an object?__\n",
    "\n",
    "1. Loose coupling between the object creation and the class implementation.\n",
    "2. The client need NOT be aware of the class that creates the object \n",
    "3. Simplify implementations for the client. It is only necessary to know the interface, methods, and parameters that need to be passed to create objects of the desired type. \n",
    "4. Adding another class to the factory to create objects of another type can be easily done without the client changing the code\n",
    "5. The factory can also reuse the existing objects\n",
    "\n",
    "___Example:___\n",
    "\n",
    "A manufacturing company create toy cars. Then, the CEO of the company wants to manufacture dolls based on the demand in the market. \n",
    "\n",
    "___Analogy___:\n",
    "\n",
    "* The **Machine** becomes the ___interface___. \n",
    "* The **CEO** is the ___client___. \n",
    "* The **Toys** are the ___objects___.\n",
    "\n",
    "___There are three variants of the Factory pattern:___\n",
    "\n",
    "* **Simple Factory pattern**: This allows interfaces to create objects without exposing the object creation logic.\n",
    "* **Factory method pattern**: This allows interfaces to create objects, but defers the decision to the subclasses to determine the class for object creation.\n",
    "* **Abstract Factory pattern**: An Abstract Factory is an interface to create related objects without specifying/exposing their classes. The pattern provides objects of another factory, which internally creates other objects"
   ]
  },
  {
   "cell_type": "markdown",
   "metadata": {},
   "source": [
    "### Simple Factory \n",
    "* A class that is responsible for creating objects of other types\n",
    "* The clien"
   ]
  },
  {
   "cell_type": "code",
   "execution_count": null,
   "metadata": {},
   "outputs": [],
   "source": [
    "from abc import ABCMeta, abstractmethod\n",
    "\n",
    "class Animal(metaclass = ABCMeta):\n",
    "    @abstractmethod\n",
    "    def do_say(self):\n",
    "        pass\n",
    "    \n",
    "###############################\n",
    "    \n",
    "class Dog(Animal):\n",
    "    def do_say(self):\n",
    "        print(\"Bhow Bhow!!\")\n",
    "\n",
    "class Cat(Animal):\n",
    "    def do_say(self):\n",
    "        print(\"Meow Meow!!\")\n",
    "\n",
    "class Chicken(Animal):\n",
    "    def do_say(self):\n",
    "        print(\"Pio Pio!!\")\n",
    "        \n",
    "###############################\n",
    "\n",
    "## forest factory defined\n",
    "class ForestFactory(object):\n",
    "    def make_sound(self, object_type):\n",
    "        return eval(object_type)().do_say()\n",
    "\n",
    "## client code\n",
    "if __name__ == '__main__':\n",
    "    ff = ForestFactory()\n",
    "    animal = input(\"Which animal should make_sound Dog or Cat? \")\n",
    "    ff.make_sound(animal)"
   ]
  }
 ],
 "metadata": {
  "kernelspec": {
   "display_name": "Python 3",
   "language": "python",
   "name": "python3"
  },
  "language_info": {
   "codemirror_mode": {
    "name": "ipython",
    "version": 3
   },
   "file_extension": ".py",
   "mimetype": "text/x-python",
   "name": "python",
   "nbconvert_exporter": "python",
   "pygments_lexer": "ipython3",
   "version": "3.7.4"
  }
 },
 "nbformat": 4,
 "nbformat_minor": 2
}
